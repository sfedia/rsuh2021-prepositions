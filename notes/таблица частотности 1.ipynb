{
 "cells": [
  {
   "cell_type": "code",
   "execution_count": 1,
   "id": "threaded-empire",
   "metadata": {},
   "outputs": [],
   "source": [
    "import json\n",
    "import os\n",
    "import sys\n",
    "sys.path.insert(0, os.path.join(\"..\", \"app\"))\n",
    "import dataset"
   ]
  },
  {
   "cell_type": "code",
   "execution_count": 2,
   "id": "healthy-suicide",
   "metadata": {},
   "outputs": [],
   "source": [
    "meta = open(os.path.join(\"..\", \"files\", \"meta\", \"datasets.json\"), encoding=\"utf-8\").read()\n",
    "meta = json.loads(meta)"
   ]
  },
  {
   "cell_type": "code",
   "execution_count": 3,
   "id": "lesbian-stick",
   "metadata": {},
   "outputs": [],
   "source": [
    "freq_by_preposition = {}\n",
    "for dataset_dict in meta[\"datasets_meta\"]:\n",
    "    fname = dataset_dict[\"name\"].replace(\":\", \"_\")\n",
    "    _, preposition, _, feature = fname.split(\"_\")\n",
    "    try:\n",
    "        mcount = dataset.Dataset(fname, \"..\").get_matches_count()\n",
    "    except FileNotFoundError:\n",
    "        mcount = 0\n",
    "    if preposition not in freq_by_preposition:\n",
    "        freq_by_preposition[preposition] = {}\n",
    "    freq_by_preposition[preposition][feature] = mcount"
   ]
  },
  {
   "cell_type": "code",
   "execution_count": 4,
   "id": "accepting-person",
   "metadata": {},
   "outputs": [],
   "source": [
    "with open(\"frequency.csv\", \"a\", encoding=\"utf-8\") as freq_csv:\n",
    "    freq_csv.write(\"Предлог,АмальгамыИнтерпозиция,АппроксИнверсия,ДвРефлексивИнтерпозиция,ОтрМестИнтерпозиция,Удвоение\\n\")\n",
    "    for preposition in sorted(freq_by_preposition.items(), key=lambda el: el[0]):\n",
    "        features = sorted(preposition[1].items(), key=lambda el: el[0])\n",
    "        freq_csv.write(\",\".join([preposition[0]] + [str(x[1]) for x in features]) + \"\\n\")\n",
    "    freq_csv.close()\n"
   ]
  },
  {
   "cell_type": "code",
   "execution_count": null,
   "id": "complex-motor",
   "metadata": {},
   "outputs": [],
   "source": []
  }
 ],
 "metadata": {
  "kernelspec": {
   "display_name": "Python 3",
   "language": "python",
   "name": "python3"
  },
  "language_info": {
   "codemirror_mode": {
    "name": "ipython",
    "version": 3
   },
   "file_extension": ".py",
   "mimetype": "text/x-python",
   "name": "python",
   "nbconvert_exporter": "python",
   "pygments_lexer": "ipython3",
   "version": "3.7.3"
  }
 },
 "nbformat": 4,
 "nbformat_minor": 5
}
