{
 "cells": [
  {
   "cell_type": "code",
   "execution_count": 1,
   "id": "little-entity",
   "metadata": {},
   "outputs": [],
   "source": [
    "from math import sqrt\n",
    "from typing import Tuple"
   ]
  },
  {
   "cell_type": "code",
   "execution_count": 2,
   "id": "graduate-radiation",
   "metadata": {},
   "outputs": [],
   "source": [
    "import os\n",
    "import sys\n",
    "sys.path.insert(0, os.path.join(\"..\", \"app\"))\n",
    "import dataset\n",
    "import json\n",
    "import numpy as np\n",
    "\n",
    "from collections import namedtuple\n"
   ]
  },
  {
   "cell_type": "code",
   "execution_count": 3,
   "id": "regulation-equality",
   "metadata": {},
   "outputs": [],
   "source": [
    "meta = open(os.path.join(\"..\", \"files\", \"meta\", \"datasets.json\"), encoding=\"utf-8\").read()\n",
    "meta = json.loads(meta)"
   ]
  },
  {
   "cell_type": "code",
   "execution_count": 4,
   "id": "closed-madison",
   "metadata": {},
   "outputs": [],
   "source": [
    "def format_name(from_meta):\n",
    "    return from_meta.replace(\":\", \"_\")"
   ]
  },
  {
   "cell_type": "code",
   "execution_count": 5,
   "id": "composed-extent",
   "metadata": {},
   "outputs": [],
   "source": [
    "from typing import Iterator\n",
    "\n",
    "item = namedtuple(\"dataset\", \"name general valid\")\n",
    "def non_empty_datasets() -> Iterator[item]:\n",
    "    for ds in meta[\"datasets_meta\"]:\n",
    "        fname = format_name(ds[\"name\"])\n",
    "        #_, preposition, _, p = fname.split(\"_\")\n",
    "        try:\n",
    "            d = dataset.Dataset(fname, \"..\")\n",
    "            valid = d.get_matches_count()\n",
    "            yield item(fname, ds[\"allMatches\"], valid)\n",
    "        except FileNotFoundError:\n",
    "            pass\n",
    "def datasets_null_ifempty() -> Iterator[item]:\n",
    "    for ds in meta[\"datasets_meta\"]:\n",
    "        fname = format_name(ds[\"name\"])\n",
    "        #_, preposition, _, p = fname.split(\"_\")\n",
    "        try:\n",
    "            d = dataset.Dataset(fname, \"..\")\n",
    "            valid = d.get_matches_count()\n",
    "            print(fname, ds[\"allMatches\"], valid)\n",
    "            yield item(fname, ds[\"allMatches\"], valid)\n",
    "        except FileNotFoundError:\n",
    "            yield item(fname, 0, 0)"
   ]
  },
  {
   "cell_type": "code",
   "execution_count": 6,
   "id": "union-strap",
   "metadata": {},
   "outputs": [],
   "source": [
    "properties = [\n",
    "    \"prep\",\n",
    "    \"АмальгамыИнтерпозиция\", \"ALL\", \"CI(1)\", \"LT_P(1)\",\n",
    "    \"АппроксИнверсия\", \"ALL\", \"CI(2)\", \"LT_P(2)\",\n",
    "    \"ДвРефлексивИнтерпозиция\", \"ALL\", \"CI(3)\", \"LT_P(3)\",\n",
    "    \"ОтрМестИнтерпозиция\", \"ALL\", \"CI(4)\", \"LT_P(4)\",\n",
    "    \"Удвоение\", \"ALL\", \"CI(5)\", \"LT_P(5)\"\n",
    "]\n"
   ]
  },
  {
   "cell_type": "code",
   "execution_count": 7,
   "id": "unauthorized-alberta",
   "metadata": {},
   "outputs": [],
   "source": [
    "prep_all = {\n",
    "    \"без\": 346943,\n",
    "    \"в\": 10232237,\n",
    "    \"для\": 990769,\n",
    "    \"до\": 671607,\n",
    "    \"за\": 1280056,\n",
    "    \"из\": 1448781,\n",
    "    \"из-за\": 76941,\n",
    "    \"из-под\": 28182,\n",
    "    \"к\": 2021431,\n",
    "    \"на\": 4913492,\n",
    "    \"над\": 462820,\n",
    "    \"о\": 1429700,\n",
    "    \"от\": 1264660,\n",
    "    \"перед\": 246718,\n",
    "    \"по\": 1792216,\n",
    "    \"по-за\": 160,\n",
    "    \"по-над\": 231,\n",
    "    \"по-под\": 0,\n",
    "    \"под\": 383750,\n",
    "    \"при\": 492442,\n",
    "    \"про\": 109715,\n",
    "    \"с\": 4084338,\n",
    "    \"у\": 1337700,\n",
    "    \"через\": 269984\n",
    "}"
   ]
  },
  {
   "cell_type": "code",
   "execution_count": 8,
   "id": "chemical-project",
   "metadata": {},
   "outputs": [],
   "source": [
    "import scipy.stats\n",
    "def ci(a, b):\n",
    "    return scipy.stats.binom_test(a, b, 1.0/5, alternative='two-sided')"
   ]
  },
  {
   "cell_type": "code",
   "execution_count": 9,
   "id": "attended-marshall",
   "metadata": {},
   "outputs": [
    {
     "data": {
      "text/plain": [
       "3.558658399782882e-21"
      ]
     },
     "execution_count": 9,
     "metadata": {},
     "output_type": "execute_result"
    }
   ],
   "source": [
    "ci(51, 708)"
   ]
  },
  {
   "cell_type": "code",
   "execution_count": 10,
   "id": "efficient-class",
   "metadata": {},
   "outputs": [
    {
     "name": "stdout",
     "output_type": "stream",
     "text": [
      "НКРЯ_без_ВАР_АппроксИнверсия 156 1\n",
      "НКРЯ_без_ВАР_ОтрМестИнтерпозиция 25 2\n",
      "НКРЯ_без_ВАР_АмальгамыИнтерпозиция 1 1\n",
      "НКРЯ_без_ВАР_Удвоение 6 4\n",
      "НКРЯ_в_ВАР_АппроксИнверсия 22142 387\n",
      "НКРЯ_в_ВАР_ОтрМестИнтерпозиция 21871 965\n",
      "НКРЯ_в_ВАР_АмальгамыИнтерпозиция 506 185\n",
      "НКРЯ_в_ВАР_ДвРефлексивИнтерпозиция 811 802\n",
      "НКРЯ_в_ВАР_Удвоение 2099 37\n",
      "НКРЯ_для_ВАР_ОтрМестИнтерпозиция 1617 383\n",
      "НКРЯ_для_ВАР_АмальгамыИнтерпозиция 263 112\n",
      "НКРЯ_для_ВАР_ДвРефлексивИнтерпозиция 526 467\n",
      "НКРЯ_для_ВАР_Удвоение 13 1\n",
      "НКРЯ_до_ВАР_АппроксИнверсия 2547 175\n",
      "НКРЯ_до_ВАР_ОтрМестИнтерпозиция 671 352\n",
      "НКРЯ_до_ВАР_АмальгамыИнтерпозиция 100 85\n",
      "НКРЯ_до_ВАР_ДвРефлексивИнтерпозиция 12 12\n",
      "НКРЯ_до_ВАР_Удвоение 16 6\n",
      "НКРЯ_за_ВАР_АппроксИнверсия 3877 50\n",
      "НКРЯ_за_ВАР_ОтрМестИнтерпозиция 9424 1047\n",
      "НКРЯ_за_ВАР_АмальгамыИнтерпозиция 381 120\n",
      "НКРЯ_за_ВАР_ДвРефлексивИнтерпозиция 840 302\n",
      "НКРЯ_за_ВАР_Удвоение 122 60\n",
      "НКРЯ_из_ВАР_АппроксИнверсия 2464 3\n",
      "НКРЯ_из_ВАР_ОтрМестИнтерпозиция 147 127\n",
      "НКРЯ_из_ВАР_АмальгамыИнтерпозиция 51 41\n",
      "НКРЯ_из_ВАР_ДвРефлексивИнтерпозиция 87 81\n",
      "НКРЯ_из_ВАР_Удвоение 98 24\n",
      "НКРЯ_из-за_ВАР_АппроксИнверсия 54 1\n",
      "НКРЯ_из-за_ВАР_ОтрМестИнтерпозиция 16 15\n",
      "НКРЯ_из-за_ВАР_АмальгамыИнтерпозиция 44 22\n",
      "НКРЯ_из-за_ВАР_Удвоение 2 2\n",
      "НКРЯ_к_ВАР_АппроксИнверсия 945 141\n",
      "НКРЯ_к_ВАР_ОтрМестИнтерпозиция 8459 764\n",
      "НКРЯ_к_ВАР_АмальгамыИнтерпозиция 141 66\n",
      "НКРЯ_к_ВАР_ДвРефлексивИнтерпозиция 90 90\n",
      "НКРЯ_к_ВАР_Удвоение 37 22\n",
      "НКРЯ_на_ВАР_АппроксИнверсия 16059 66\n",
      "НКРЯ_на_ВАР_ОтрМестИнтерпозиция 9942 669\n",
      "НКРЯ_на_ВАР_АмальгамыИнтерпозиция 278 188\n",
      "НКРЯ_на_ВАР_ДвРефлексивИнтерпозиция 695 549\n",
      "НКРЯ_на_ВАР_Удвоение 1635 87\n",
      "НКРЯ_над_ВАР_ОтрМестИнтерпозиция 140 135\n",
      "НКРЯ_над_ВАР_АмальгамыИнтерпозиция 22 16\n",
      "НКРЯ_над_ВАР_ДвРефлексивИнтерпозиция 192 192\n",
      "НКРЯ_над_ВАР_Удвоение 4 4\n",
      "НКРЯ_о_ВАР_АппроксИнверсия 346 1\n",
      "НКРЯ_о_ВАР_ОтрМестИнтерпозиция 9320 867\n",
      "НКРЯ_о_ВАР_АмальгамыИнтерпозиция 462 234\n",
      "НКРЯ_о_ВАР_ДвРефлексивИнтерпозиция 430 422\n",
      "НКРЯ_о_ВАР_Удвоение 78 18\n",
      "НКРЯ_от_ВАР_АппроксИнверсия 1469 10\n",
      "НКРЯ_от_ВАР_ОтрМестИнтерпозиция 2118 521\n",
      "НКРЯ_от_ВАР_АмальгамыИнтерпозиция 130 65\n",
      "НКРЯ_от_ВАР_ДвРефлексивИнтерпозиция 324 321\n",
      "НКРЯ_от_ВАР_Удвоение 75 38\n",
      "НКРЯ_перед_ВАР_ОтрМестИнтерпозиция 956 412\n",
      "НКРЯ_перед_ВАР_АмальгамыИнтерпозиция 10 6\n",
      "НКРЯ_перед_ВАР_ДвРефлексивИнтерпозиция 75 75\n",
      "НКРЯ_перед_ВАР_Удвоение 2 1\n",
      "НКРЯ_по_ВАР_АппроксИнверсия 649 1\n",
      "НКРЯ_по_ВАР_ОтрМестИнтерпозиция 288 268\n",
      "НКРЯ_по_ВАР_АмальгамыИнтерпозиция 7 4\n",
      "НКРЯ_по_ВАР_ДвРефлексивИнтерпозиция 15259 974\n",
      "НКРЯ_по_ВАР_Удвоение 71 45\n",
      "НКРЯ_под_ВАР_ОтрМестИнтерпозиция 860 450\n",
      "НКРЯ_под_ВАР_АмальгамыИнтерпозиция 2 2\n",
      "НКРЯ_под_ВАР_ДвРефлексивИнтерпозиция 9 9\n",
      "НКРЯ_под_ВАР_Удвоение 16 11\n",
      "НКРЯ_при_ВАР_АппроксИнверсия 282 1\n",
      "НКРЯ_при_ВАР_ОтрМестИнтерпозиция 3710 756\n",
      "НКРЯ_при_ВАР_АмальгамыИнтерпозиция 9 1\n",
      "НКРЯ_при_ВАР_ДвРефлексивИнтерпозиция 2 2\n",
      "НКРЯ_при_ВАР_Удвоение 36 2\n",
      "НКРЯ_про_ВАР_ОтрМестИнтерпозиция 615 615\n",
      "НКРЯ_про_ВАР_АмальгамыИнтерпозиция 20 9\n",
      "НКРЯ_про_ВАР_ДвРефлексивИнтерпозиция 262 262\n",
      "НКРЯ_про_ВАР_Удвоение 7 7\n",
      "НКРЯ_с_ВАР_АппроксИнверсия 797 2\n",
      "НКРЯ_с_ВАР_ОтрМестИнтерпозиция 7797 1126\n",
      "НКРЯ_с_ВАР_АмальгамыИнтерпозиция 354 205\n",
      "НКРЯ_с_ВАР_ДвРефлексивИнтерпозиция 2517 646\n",
      "НКРЯ_с_ВАР_Удвоение 190 59\n",
      "НКРЯ_у_ВАР_АппроксИнверсия 661 2\n",
      "НКРЯ_у_ВАР_ОтрМестИнтерпозиция 3476 126\n",
      "НКРЯ_у_ВАР_АмальгамыИнтерпозиция 81 60\n",
      "НКРЯ_у_ВАР_ДвРефлексивИнтерпозиция 148 146\n",
      "НКРЯ_у_ВАР_Удвоение 208 159\n",
      "НКРЯ_через_ВАР_АппроксИнверсия 2346 241\n",
      "НКРЯ_через_ВАР_ОтрМестИнтерпозиция 72 72\n",
      "НКРЯ_через_ВАР_ДвРефлексивИнтерпозиция 5 4\n",
      "(156, 1, 'НКРЯ_без_ВАР_АппроксИнверсия')\n"
     ]
    }
   ],
   "source": [
    "from itertools import groupby\n",
    "data = [(x.general, x.valid, x.name) for x in datasets_null_ifempty()]\n",
    "print(data[0])\n",
    "#print(len(data))\n",
    "g = groupby(data, key=lambda x: x[2].split(\"_\")[1])\n",
    "with open(\"4fields_7.csv\", \"a\") as table:\n",
    "    table.write(\",\".join(properties) + \"\\n\")\n",
    "    for key, il in g:\n",
    "        last = None\n",
    "        result_row = []\n",
    "        ils = [row for row in il]\n",
    "        ils = sorted(ils, key=lambda item: item[2].split(\"_\")[3])\n",
    "        for row in ils:\n",
    "            result_row += [row[1], str(prep_all[row[2].split(\"_\")[1]]), \"?\", \"?\"]\n",
    "            last = row\n",
    "        result_row = [last[2].split(\"_\")[1]] + result_row\n",
    "        table.write(\",\".join([str(x) for x in result_row]) + \"\\n\")"
   ]
  },
  {
   "cell_type": "code",
   "execution_count": null,
   "id": "neural-reflection",
   "metadata": {},
   "outputs": [],
   "source": [
    "data = [(x.general, x.valid, x.name) for x in datasets_null_ifempty()]"
   ]
  },
  {
   "cell_type": "code",
   "execution_count": null,
   "id": "former-citizen",
   "metadata": {},
   "outputs": [],
   "source": []
  }
 ],
 "metadata": {
  "kernelspec": {
   "display_name": "Python 3",
   "language": "python",
   "name": "python3"
  },
  "language_info": {
   "codemirror_mode": {
    "name": "ipython",
    "version": 3
   },
   "file_extension": ".py",
   "mimetype": "text/x-python",
   "name": "python",
   "nbconvert_exporter": "python",
   "pygments_lexer": "ipython3",
   "version": "3.7.3"
  }
 },
 "nbformat": 4,
 "nbformat_minor": 5
}
